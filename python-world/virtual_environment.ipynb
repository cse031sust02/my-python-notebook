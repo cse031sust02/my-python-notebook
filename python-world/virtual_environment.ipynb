{
 "cells": [
  {
   "cell_type": "markdown",
   "metadata": {},
   "source": [
    "## Virtual Environment\n",
    "\n",
    "An \"environment\" in Python is the context in which a Python program runs. An environment consists of an interpreter and any number of installed packages. Because many programs are written specifically for a certain Python interpreter and makes use of a set of libraries, developers often create and manage an environment for individual programs.\n",
    "  \n",
    "By default, any Python interpreter run in its own \"global\" environment. Any packages that we install or uninstall affect the global environment.\n",
    "\n",
    "Over time, it become messy to work with global environment as there are many different packages installed for different projects. For this reason, developers often create a virtual environment for any given project.\n",
    "\n",
    "A virtual environment is a subfolder in a project that contains a copy of a specific interpreter. If we activate the virtual environment, any packages we install will be installed only in that environment's subfolder. So when we run a Python program within that environment, we know that it's running against only those specific packages.\n",
    "\n",
    "```\n",
    "$ sudo apt-get install python3-venv\n",
    "$ python3 -m venv <your-env-name>\n",
    "$ source <your-env-name>/bin/activate\n",
    "```\n",
    "\n",
    "When we're ready to deploy the application to other computers, we can make a requirements.txt file by using the command   `pip freeze > requirements.txt`. This file contains a list of all the packages we have installed in our virtual environment. With just this file, we or other developers can easily install those packages by running  `pip install -r requirements.txt`. \n",
    "\n",
    "By using a requirements file, we need not commit the virtual environment itself to source control."
   ]
  }
 ],
 "metadata": {
  "language_info": {
   "name": "python"
  },
  "orig_nbformat": 4
 },
 "nbformat": 4,
 "nbformat_minor": 2
}
