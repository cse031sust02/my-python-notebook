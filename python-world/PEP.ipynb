{
 "cells": [
  {
   "cell_type": "markdown",
   "metadata": {},
   "source": [
    "## PEPs\n",
    "\n",
    "PEPs are Python Enhancement Proposals. They describe changes to Python itself, or the standards around it.\n",
    "\n",
    "The most important PEP is PEP 8 which is the style guide for python code."
   ]
  }
 ],
 "metadata": {
  "language_info": {
   "name": "python"
  },
  "orig_nbformat": 4
 },
 "nbformat": 4,
 "nbformat_minor": 2
}
