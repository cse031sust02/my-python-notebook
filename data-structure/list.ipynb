{
 "cells": [
  {
   "cell_type": "markdown",
   "id": "ad452297",
   "metadata": {},
   "source": [
    "# List\n",
    "\n",
    "List is a collection which is :\n",
    "- Mutable (Changeable)\n",
    "- Ordered\n",
    "- Allows duplicate members"
   ]
  },
  {
   "cell_type": "code",
   "execution_count": 1,
   "id": "0103571c",
   "metadata": {},
   "outputs": [
    {
     "data": {
      "text/plain": [
       "['Bangladesh', 'India', 'Pakistan']"
      ]
     },
     "execution_count": 1,
     "metadata": {},
     "output_type": "execute_result"
    }
   ],
   "source": [
    "countries = [\"Bangladesh\", \"India\", \"Pakistan\"]\n",
    "countries"
   ]
  },
  {
   "cell_type": "markdown",
   "id": "8d163cff",
   "metadata": {},
   "source": [
    "## Accessing Items"
   ]
  },
  {
   "cell_type": "code",
   "execution_count": 2,
   "id": "ba2befe5",
   "metadata": {},
   "outputs": [
    {
     "name": "stdout",
     "output_type": "stream",
     "text": [
      "First item of the list is :  Bangladesh\n",
      "Last item of the list is :  Pakistan\n",
      "Second & Third items of the list is :  ['India', 'Pakistan']\n"
     ]
    }
   ],
   "source": [
    "print(\"First item of the list is : \", countries[0])\n",
    "print(\"Last item of the list is : \", countries[-1])\n",
    "print(\"Second & Third items of the list is : \", countries[1:3])"
   ]
  },
  {
   "cell_type": "markdown",
   "id": "c77e56e8",
   "metadata": {},
   "source": [
    "## Looping through list"
   ]
  },
  {
   "cell_type": "code",
   "execution_count": 3,
   "id": "3c4e8d70",
   "metadata": {},
   "outputs": [
    {
     "name": "stdout",
     "output_type": "stream",
     "text": [
      "Items in the list : \n",
      "Bangladesh\n",
      "India\n",
      "Pakistan\n"
     ]
    }
   ],
   "source": [
    "print(\"Items in the list : \")\n",
    "for country in countries:\n",
    "    print(country)"
   ]
  },
  {
   "cell_type": "markdown",
   "id": "4df0272c",
   "metadata": {},
   "source": [
    "## Add/Edit/Delete Items"
   ]
  },
  {
   "cell_type": "code",
   "execution_count": 4,
   "id": "b597a2af",
   "metadata": {},
   "outputs": [
    {
     "data": {
      "text/plain": [
       "'Afganistan'"
      ]
     },
     "execution_count": 4,
     "metadata": {},
     "output_type": "execute_result"
    }
   ],
   "source": [
    "countries[1] = \"Afganistan\"\n",
    "countries[1]"
   ]
  },
  {
   "cell_type": "code",
   "execution_count": 5,
   "id": "6b07ed8e",
   "metadata": {},
   "outputs": [
    {
     "data": {
      "text/plain": [
       "['Bangladesh', 'Afganistan', 'Pakistan', 'Bhutan']"
      ]
     },
     "execution_count": 5,
     "metadata": {},
     "output_type": "execute_result"
    }
   ],
   "source": [
    "countries.append(\"Bhutan\")\n",
    "countries"
   ]
  },
  {
   "cell_type": "code",
   "execution_count": 6,
   "id": "6d380d85",
   "metadata": {},
   "outputs": [
    {
     "data": {
      "text/plain": [
       "['Bangladesh', 'Afganistan', 'Bhutan']"
      ]
     },
     "execution_count": 6,
     "metadata": {},
     "output_type": "execute_result"
    }
   ],
   "source": [
    "countries.remove(\"Pakistan\")\n",
    "countries"
   ]
  }
 ],
 "metadata": {
  "kernelspec": {
   "display_name": "Python 3 (ipykernel)",
   "language": "python",
   "name": "python3"
  },
  "language_info": {
   "codemirror_mode": {
    "name": "ipython",
    "version": 3
   },
   "file_extension": ".py",
   "mimetype": "text/x-python",
   "name": "python",
   "nbconvert_exporter": "python",
   "pygments_lexer": "ipython3",
   "version": "3.8.10"
  }
 },
 "nbformat": 4,
 "nbformat_minor": 5
}
