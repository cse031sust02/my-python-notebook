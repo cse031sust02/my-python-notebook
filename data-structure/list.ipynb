{
 "cells": [
  {
   "cell_type": "markdown",
   "id": "32760596",
   "metadata": {},
   "source": [
    "# List\n",
    "\n",
    "List is a collection which is :\n",
    "- Mutable (Changeable)\n",
    "- Ordered\n",
    "- Allows duplicate members"
   ]
  },
  {
   "cell_type": "code",
   "execution_count": 1,
   "id": "095eaba4",
   "metadata": {},
   "outputs": [
    {
     "data": {
      "text/plain": [
       "['Bangladesh', 'India', 'Pakistan']"
      ]
     },
     "execution_count": 1,
     "metadata": {},
     "output_type": "execute_result"
    }
   ],
   "source": [
    "countries = [\"Bangladesh\", \"India\", \"Pakistan\"]\n",
    "countries"
   ]
  },
  {
   "cell_type": "markdown",
   "id": "6b43a4d2",
   "metadata": {},
   "source": [
    "## Accessing Items"
   ]
  },
  {
   "cell_type": "code",
   "execution_count": 2,
   "id": "2c9c64df",
   "metadata": {},
   "outputs": [
    {
     "name": "stdout",
     "output_type": "stream",
     "text": [
      "First item of the list is :  Bangladesh\n",
      "Last item of the list is :  Pakistan\n",
      "Second & Third items of the list is :  ['India', 'Pakistan']\n"
     ]
    }
   ],
   "source": [
    "print(\"First item of the list is : \", countries[0])\n",
    "print(\"Last item of the list is : \", countries[-1])\n",
    "print(\"Second & Third items of the list is : \", countries[1:3])"
   ]
  },
  {
   "cell_type": "markdown",
   "id": "c74f4a2d",
   "metadata": {},
   "source": [
    "## Looping through list"
   ]
  },
  {
   "cell_type": "code",
   "execution_count": 3,
   "id": "aebb75f4",
   "metadata": {},
   "outputs": [
    {
     "name": "stdout",
     "output_type": "stream",
     "text": [
      "Items in the list : \n",
      "Bangladesh\n",
      "India\n",
      "Pakistan\n"
     ]
    }
   ],
   "source": [
    "print(\"Items in the list : \")\n",
    "for country in countries:\n",
    "    print(country)"
   ]
  },
  {
   "cell_type": "markdown",
   "id": "c9f2d280",
   "metadata": {},
   "source": [
    "## Add/Edit/Delete Items"
   ]
  },
  {
   "cell_type": "code",
   "execution_count": 4,
   "id": "a240c9bc",
   "metadata": {},
   "outputs": [
    {
     "data": {
      "text/plain": [
       "'Afganistan'"
      ]
     },
     "execution_count": 4,
     "metadata": {},
     "output_type": "execute_result"
    }
   ],
   "source": [
    "countries[1] = \"Afganistan\"\n",
    "countries[1]"
   ]
  },
  {
   "cell_type": "code",
   "execution_count": 5,
   "id": "9b7b0869",
   "metadata": {},
   "outputs": [
    {
     "data": {
      "text/plain": [
       "['Bangladesh', 'Afganistan', 'Pakistan', 'Bhutan']"
      ]
     },
     "execution_count": 5,
     "metadata": {},
     "output_type": "execute_result"
    }
   ],
   "source": [
    "countries.append(\"Bhutan\")\n",
    "countries"
   ]
  },
  {
   "cell_type": "code",
   "execution_count": 6,
   "id": "3951825a",
   "metadata": {},
   "outputs": [
    {
     "data": {
      "text/plain": [
       "['Bangladesh', 'Afganistan', 'Bhutan']"
      ]
     },
     "execution_count": 6,
     "metadata": {},
     "output_type": "execute_result"
    }
   ],
   "source": [
    "countries.remove(\"Pakistan\")\n",
    "countries"
   ]
  }
 ],
 "metadata": {
  "kernelspec": {
   "display_name": "Python 3 (ipykernel)",
   "language": "python",
   "name": "python3"
  },
  "language_info": {
   "codemirror_mode": {
    "name": "ipython",
    "version": 3
   },
   "file_extension": ".py",
   "mimetype": "text/x-python",
   "name": "python",
   "nbconvert_exporter": "python",
   "pygments_lexer": "ipython3",
   "version": "3.8.10"
  }
 },
 "nbformat": 4,
 "nbformat_minor": 5
}
