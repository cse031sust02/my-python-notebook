{
 "cells": [
  {
   "cell_type": "markdown",
   "id": "3229d65c",
   "metadata": {},
   "source": [
    "# Python Sets\n",
    "\n",
    "Set is a collection which is :\n",
    "- Unindexed\n",
    "- Unordered\n",
    "- Do not allow duplicate members"
   ]
  },
  {
   "cell_type": "code",
   "execution_count": 1,
   "id": "0447b12f",
   "metadata": {},
   "outputs": [
    {
     "data": {
      "text/plain": [
       "{'bag', 'pen', 'pencil'}"
      ]
     },
     "execution_count": 1,
     "metadata": {},
     "output_type": "execute_result"
    }
   ],
   "source": [
    "education_items = {\"pen\", \"pencil\", \"bag\"}\n",
    "education_items\n",
    "# note : sets are unordered, so we cannot be sure in which order the items will appear."
   ]
  },
  {
   "cell_type": "markdown",
   "id": "bcec2d9b",
   "metadata": {},
   "source": [
    "**Note :** Sets can not contain mutable items (list, dictionary etc)"
   ]
  },
  {
   "cell_type": "markdown",
   "id": "f1b70a4c",
   "metadata": {},
   "source": [
    "## There are multiple ways to create set"
   ]
  },
  {
   "cell_type": "code",
   "execution_count": 2,
   "id": "2fc2cf78",
   "metadata": {},
   "outputs": [
    {
     "name": "stdout",
     "output_type": "stream",
     "text": [
      "Empty Set  :  set()\n",
      "Set from List :  {1, 2, 3, 5}\n",
      "Set from Tuple :  {1, 2, 3, 5}\n"
     ]
    }
   ],
   "source": [
    "# we can create an empty set\n",
    "my_empty_set = set()\n",
    "print(\"Empty Set  : \", my_empty_set)\n",
    "\n",
    "# we can create set from list\n",
    "my_list = [1, 2, 2, 3, 5, 5]\n",
    "set_from_list = set(my_list)\n",
    "print(\"Set from List : \", set_from_list)\n",
    "\n",
    "# we can create set from tuple\n",
    "my_tuple = (1, 2, 2, 3, 5, 5)\n",
    "set_from_tuple = set(my_tuple)\n",
    "print(\"Set from Tuple : \", set_from_tuple)"
   ]
  },
  {
   "cell_type": "markdown",
   "id": "d40c999f",
   "metadata": {},
   "source": [
    "## Accessing Items\n",
    "\n",
    "\n",
    "Since sets are unordered, the items has no index. So we cannot access items in a set by referring to an index\n",
    "\n",
    "We need to loop through in the set to view items"
   ]
  },
  {
   "cell_type": "code",
   "execution_count": 3,
   "id": "3c372c38",
   "metadata": {},
   "outputs": [
    {
     "name": "stdout",
     "output_type": "stream",
     "text": [
      "bag\n",
      "pen\n",
      "pencil\n"
     ]
    }
   ],
   "source": [
    "for item in education_items:\n",
    "    print(item)"
   ]
  },
  {
   "cell_type": "markdown",
   "id": "690ccb0d",
   "metadata": {},
   "source": [
    "## Add/Edit/Delete Elements"
   ]
  },
  {
   "cell_type": "code",
   "execution_count": 4,
   "id": "82e242ba",
   "metadata": {},
   "outputs": [],
   "source": [
    "my_set = {1, 2, 3, 4, 5}"
   ]
  },
  {
   "cell_type": "markdown",
   "id": "962e416f",
   "metadata": {},
   "source": [
    "#### add elements to a set"
   ]
  },
  {
   "cell_type": "code",
   "execution_count": 5,
   "id": "a878df6f",
   "metadata": {},
   "outputs": [
    {
     "name": "stdout",
     "output_type": "stream",
     "text": [
      "{1, 2, 3, 4, 5, 6}\n"
     ]
    }
   ],
   "source": [
    "# adding single element to a set\n",
    "my_set.add(6)\n",
    "print(my_set)"
   ]
  },
  {
   "cell_type": "code",
   "execution_count": 6,
   "id": "6f0caf9b",
   "metadata": {},
   "outputs": [
    {
     "name": "stdout",
     "output_type": "stream",
     "text": [
      "{1, 2, 3, 4, 5, 6, 7, 8, 9, 10}\n"
     ]
    }
   ],
   "source": [
    "# adding multiple elements to a set\n",
    "my_set.update([7, 8, 9, 10])\n",
    "print(my_set)"
   ]
  },
  {
   "cell_type": "markdown",
   "id": "27b96cf3",
   "metadata": {},
   "source": [
    "#### removing elements from a set"
   ]
  },
  {
   "cell_type": "code",
   "execution_count": 7,
   "id": "3757ee07",
   "metadata": {},
   "outputs": [
    {
     "name": "stdout",
     "output_type": "stream",
     "text": [
      "{1, 2, 4, 5, 6, 7, 8, 9, 10}\n"
     ]
    }
   ],
   "source": [
    "# using remove method\n",
    "my_set.remove(3)\n",
    "print(my_set)"
   ]
  },
  {
   "cell_type": "code",
   "execution_count": 8,
   "id": "0a496b01",
   "metadata": {},
   "outputs": [
    {
     "name": "stdout",
     "output_type": "stream",
     "text": [
      "{1, 2, 5, 6, 7, 8, 9, 10}\n"
     ]
    }
   ],
   "source": [
    "# using discard method\n",
    "my_set.discard(4)\n",
    "print(my_set)"
   ]
  },
  {
   "cell_type": "markdown",
   "id": "0e1989fb",
   "metadata": {},
   "source": [
    "> **Note : There is differenece between remove() anddiscard() methods.**\n",
    "\n",
    "> If the item to remove does not exist :\n",
    "> - remove() will raise an error\n",
    "> - discard() will not raise any error"
   ]
  },
  {
   "cell_type": "markdown",
   "id": "7c12b8eb",
   "metadata": {},
   "source": [
    "## Operations"
   ]
  },
  {
   "cell_type": "code",
   "execution_count": 9,
   "id": "cec718ef",
   "metadata": {},
   "outputs": [],
   "source": [
    "set1 = {1, 2, 3}\n",
    "set2 = {3, 4, 5}"
   ]
  },
  {
   "cell_type": "markdown",
   "id": "e2092b18",
   "metadata": {},
   "source": [
    "#### union"
   ]
  },
  {
   "cell_type": "code",
   "execution_count": 10,
   "id": "9a70d01d",
   "metadata": {},
   "outputs": [
    {
     "name": "stdout",
     "output_type": "stream",
     "text": [
      "{1, 2, 3, 4, 5}\n"
     ]
    }
   ],
   "source": [
    "# Union of sets\n",
    "union_set = set1.union(set2)\n",
    "print(union_set)"
   ]
  },
  {
   "cell_type": "markdown",
   "id": "41569eff",
   "metadata": {},
   "source": [
    "#### intersection"
   ]
  },
  {
   "cell_type": "code",
   "execution_count": 11,
   "id": "a453b3f1",
   "metadata": {},
   "outputs": [
    {
     "name": "stdout",
     "output_type": "stream",
     "text": [
      "{3}\n"
     ]
    }
   ],
   "source": [
    "# Intersection of sets\n",
    "intersection_set = set1.intersection(set2)\n",
    "print(intersection_set)"
   ]
  },
  {
   "cell_type": "markdown",
   "id": "80302cfc",
   "metadata": {},
   "source": [
    "#### difference"
   ]
  },
  {
   "cell_type": "code",
   "execution_count": 12,
   "id": "f3e2746f",
   "metadata": {},
   "outputs": [
    {
     "name": "stdout",
     "output_type": "stream",
     "text": [
      "{1, 2}\n"
     ]
    }
   ],
   "source": [
    "# Difference of sets\n",
    "difference_set = set1.difference(set2)\n",
    "print(difference_set)"
   ]
  }
 ],
 "metadata": {
  "kernelspec": {
   "display_name": "Python 3 (ipykernel)",
   "language": "python",
   "name": "python3"
  },
  "language_info": {
   "codemirror_mode": {
    "name": "ipython",
    "version": 3
   },
   "file_extension": ".py",
   "mimetype": "text/x-python",
   "name": "python",
   "nbconvert_exporter": "python",
   "pygments_lexer": "ipython3",
   "version": "3.8.10"
  }
 },
 "nbformat": 4,
 "nbformat_minor": 5
}
