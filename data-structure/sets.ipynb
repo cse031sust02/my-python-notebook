{
 "cells": [
  {
   "cell_type": "markdown",
   "id": "05049744",
   "metadata": {},
   "source": [
    "# Python Sets\n",
    "\n",
    "Set is a collection which is :\n",
    "- Unindexed\n",
    "- Unordered\n",
    "- Do not allow duplicate members"
   ]
  },
  {
   "cell_type": "code",
   "execution_count": 1,
   "id": "b9a84a4b",
   "metadata": {},
   "outputs": [
    {
     "data": {
      "text/plain": [
       "{'bag', 'pen', 'pencil'}"
      ]
     },
     "execution_count": 1,
     "metadata": {},
     "output_type": "execute_result"
    }
   ],
   "source": [
    "education_items = {\"pen\", \"pencil\", \"bag\"}\n",
    "education_items\n",
    "# note : sets are unordered, so we cannot be sure in which order the items will appear."
   ]
  },
  {
   "cell_type": "markdown",
   "id": "2a12ae78",
   "metadata": {},
   "source": [
    "**Note :** Sets can not contain mutable items (list, dictionary etc)"
   ]
  },
  {
   "cell_type": "markdown",
   "id": "47f4259d",
   "metadata": {},
   "source": [
    "## There are multiple ways to create set"
   ]
  },
  {
   "cell_type": "code",
   "execution_count": 2,
   "id": "ab65d884",
   "metadata": {},
   "outputs": [
    {
     "name": "stdout",
     "output_type": "stream",
     "text": [
      "Empty Set  :  set()\n",
      "Set from List :  {1, 2, 3, 5}\n",
      "Set from Tuple :  {1, 2, 3, 5}\n"
     ]
    }
   ],
   "source": [
    "# We can create an empty set\n",
    "my_empty_set = set()\n",
    "print(\"Empty Set  : \", my_empty_set)\n",
    "\n",
    "# We can create set from list\n",
    "my_list = [1, 2, 2, 3, 5, 5]\n",
    "set_from_list = set(my_list)\n",
    "print(\"Set from List : \", set_from_list)\n",
    "\n",
    "# We can create set from tuple\n",
    "my_tuple = (1, 2, 2, 3, 5, 5)\n",
    "set_from_tuple = set(my_tuple)\n",
    "print(\"Set from Tuple : \", set_from_tuple)"
   ]
  },
  {
   "cell_type": "markdown",
   "id": "d39d4c28",
   "metadata": {},
   "source": [
    "## Accessing Items\n",
    "\n",
    "\n",
    "Since sets are unordered, the items has no index. So we cannot access items in a set by referring to an index\n",
    "\n",
    "We need to loop through in the set to view items"
   ]
  },
  {
   "cell_type": "code",
   "execution_count": 3,
   "id": "3ee27aff",
   "metadata": {},
   "outputs": [
    {
     "name": "stdout",
     "output_type": "stream",
     "text": [
      "bag\n",
      "pencil\n",
      "pen\n"
     ]
    }
   ],
   "source": [
    "for item in education_items:\n",
    "    print(item)"
   ]
  },
  {
   "cell_type": "markdown",
   "id": "4dedc8b6",
   "metadata": {},
   "source": [
    "## Add/Edit/Delete Elements"
   ]
  },
  {
   "cell_type": "code",
   "execution_count": 4,
   "id": "fc0bd055",
   "metadata": {},
   "outputs": [],
   "source": [
    "my_set = {1, 2, 3, 4, 5}"
   ]
  },
  {
   "cell_type": "markdown",
   "id": "fd040137",
   "metadata": {},
   "source": [
    "#### add elements to a set"
   ]
  },
  {
   "cell_type": "code",
   "execution_count": 5,
   "id": "5687d76b",
   "metadata": {},
   "outputs": [
    {
     "name": "stdout",
     "output_type": "stream",
     "text": [
      "{1, 2, 3, 4, 5, 6}\n"
     ]
    }
   ],
   "source": [
    "# Adding single element to a set\n",
    "my_set.add(6)\n",
    "print(my_set)"
   ]
  },
  {
   "cell_type": "code",
   "execution_count": 6,
   "id": "741cb898",
   "metadata": {},
   "outputs": [
    {
     "name": "stdout",
     "output_type": "stream",
     "text": [
      "{1, 2, 3, 4, 5, 6, 7, 8, 9, 10}\n"
     ]
    }
   ],
   "source": [
    "# Adding multiple elements to a set\n",
    "my_set.update([7, 8, 9, 10])\n",
    "print(my_set)"
   ]
  },
  {
   "cell_type": "markdown",
   "id": "19976166",
   "metadata": {},
   "source": [
    "#### removing elements from a set"
   ]
  },
  {
   "cell_type": "code",
   "execution_count": 7,
   "id": "1f3f2d61",
   "metadata": {},
   "outputs": [
    {
     "name": "stdout",
     "output_type": "stream",
     "text": [
      "{1, 2, 4, 5, 6, 7, 8, 9, 10}\n"
     ]
    }
   ],
   "source": [
    "# using remove method\n",
    "my_set.remove(3)\n",
    "print(my_set)"
   ]
  },
  {
   "cell_type": "code",
   "execution_count": 8,
   "id": "4e2d76d3",
   "metadata": {},
   "outputs": [
    {
     "name": "stdout",
     "output_type": "stream",
     "text": [
      "{1, 2, 5, 6, 7, 8, 9, 10}\n"
     ]
    }
   ],
   "source": [
    "# using discard method\n",
    "my_set.discard(4)\n",
    "print(my_set)"
   ]
  },
  {
   "cell_type": "markdown",
   "id": "fc044903",
   "metadata": {},
   "source": [
    "> **Note : There is differenece between remove() anddiscard() methods.**\n",
    "\n",
    "> If the item to remove does not exist :\n",
    "> - remove() will raise an error\n",
    "> - discard() will not raise any error"
   ]
  },
  {
   "cell_type": "markdown",
   "id": "b63144ba",
   "metadata": {},
   "source": [
    "## Operations"
   ]
  },
  {
   "cell_type": "code",
   "execution_count": 9,
   "id": "d5d0a27f",
   "metadata": {},
   "outputs": [],
   "source": [
    "set1 = {1, 2, 3}\n",
    "set2 = {3, 4, 5}"
   ]
  },
  {
   "cell_type": "markdown",
   "id": "878b7b29",
   "metadata": {},
   "source": [
    "#### union"
   ]
  },
  {
   "cell_type": "code",
   "execution_count": 10,
   "id": "51916868",
   "metadata": {},
   "outputs": [
    {
     "name": "stdout",
     "output_type": "stream",
     "text": [
      "{1, 2, 3, 4, 5}\n"
     ]
    }
   ],
   "source": [
    "# Union of sets\n",
    "union_set = set1.union(set2)\n",
    "print(union_set)"
   ]
  },
  {
   "cell_type": "markdown",
   "id": "0394b3b9",
   "metadata": {},
   "source": [
    "#### intersection"
   ]
  },
  {
   "cell_type": "code",
   "execution_count": 11,
   "id": "de21d180",
   "metadata": {},
   "outputs": [
    {
     "name": "stdout",
     "output_type": "stream",
     "text": [
      "{3}\n"
     ]
    }
   ],
   "source": [
    "# Intersection of sets\n",
    "intersection_set = set1.intersection(set2)\n",
    "print(intersection_set)"
   ]
  },
  {
   "cell_type": "markdown",
   "id": "73131813",
   "metadata": {},
   "source": [
    "#### difference"
   ]
  },
  {
   "cell_type": "code",
   "execution_count": 12,
   "id": "84ec0319",
   "metadata": {},
   "outputs": [
    {
     "name": "stdout",
     "output_type": "stream",
     "text": [
      "{1, 2}\n"
     ]
    }
   ],
   "source": [
    "# Difference of sets\n",
    "difference_set = set1.difference(set2)\n",
    "print(difference_set)"
   ]
  }
 ],
 "metadata": {
  "kernelspec": {
   "display_name": "Python 3 (ipykernel)",
   "language": "python",
   "name": "python3"
  },
  "language_info": {
   "codemirror_mode": {
    "name": "ipython",
    "version": 3
   },
   "file_extension": ".py",
   "mimetype": "text/x-python",
   "name": "python",
   "nbconvert_exporter": "python",
   "pygments_lexer": "ipython3",
   "version": "3.8.10"
  }
 },
 "nbformat": 4,
 "nbformat_minor": 5
}
