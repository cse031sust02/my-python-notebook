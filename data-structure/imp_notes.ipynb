{
 "cells": [
  {
   "cell_type": "markdown",
   "id": "3ccb041f",
   "metadata": {},
   "source": [
    "# Python Data Structures Cheatsheet\n",
    "\n",
    "## Basics\n",
    "\n",
    "- List, Dictionary and Set are mutable\n",
    "\n",
    "- Tuple is immutable\n",
    "\n",
    "- Sets can't contain mutable items\n",
    "\n",
    "- In Dictionary, keys should be immutubale data structures (e.g., tuple, string, int)."
   ]
  },
  {
   "cell_type": "markdown",
   "id": "9ed2d996",
   "metadata": {},
   "source": [
    "## Copying Objects\n",
    "\n",
    "\n",
    "Assignment statements in Python do not create copies of objects, they only bind names to an object.\n",
    "\n",
    "When we create a new collection like a list or dictionary using the assignment operator (`new_list = old_list`), both the new and old collections refer to the same underlying object. This means changes made to one will affect the other."
   ]
  },
  {
   "cell_type": "code",
   "execution_count": 1,
   "id": "9dcc6b50",
   "metadata": {},
   "outputs": [
    {
     "name": "stdout",
     "output_type": "stream",
     "text": [
      "New List: [1, 2, 3, 4]\n",
      "Original List: [1, 2, 3, 4]\n"
     ]
    }
   ],
   "source": [
    "original_list = [1, 2, 3]\n",
    "new_list = original_list\n",
    "\n",
    "new_list.append(4)\n",
    "\n",
    "print(\"New List:\", new_list)\n",
    "# Output: [1, 2, 3, 4]\n",
    "\n",
    "print(\"Original List:\", original_list)\n",
    "# Output: [1, 2, 3, 4]"
   ]
  },
  {
   "cell_type": "markdown",
   "id": "f20368eb",
   "metadata": {},
   "source": [
    "### copy\n",
    "\n",
    "To create an independent copy, we should use the copy() method or other copy options"
   ]
  },
  {
   "cell_type": "code",
   "execution_count": 2,
   "id": "dc1ae0a3",
   "metadata": {},
   "outputs": [
    {
     "name": "stdout",
     "output_type": "stream",
     "text": [
      "Independent Copy: [1, 2, 3, 4, 5]\n",
      "Original List: [1, 2, 3, 4]\n"
     ]
    }
   ],
   "source": [
    "# Using the copy method to create an independent copy\n",
    "independent_copy = original_list.copy()\n",
    "\n",
    "independent_copy.append(5)\n",
    "\n",
    "print(\"Independent Copy:\", independent_copy)\n",
    "# Output: [1, 2, 3, 4, 5]\n",
    "\n",
    "print(\"Original List:\", original_list)\n",
    "# Output: [1, 2, 3, 4]"
   ]
  },
  {
   "cell_type": "markdown",
   "id": "44fda003",
   "metadata": {},
   "source": [
    "#### References\n",
    "\n",
    "- [stackoverflow](https://stackoverflow.com/questions/2612802/how-do-i-clone-a-list-so-that-it-doesnt-change-unexpectedly-after-assignment/2612815#2612815)"
   ]
  },
  {
   "cell_type": "markdown",
   "id": "3aced468",
   "metadata": {},
   "source": [
    "### deepcopy"
   ]
  },
  {
   "cell_type": "markdown",
   "id": "6dc66daa",
   "metadata": {},
   "source": [
    "the `deepcopy` function is part of the copy module and is used to create a new object that is a deep copy of the original object. A deep copy means that all nested objects within the original object are also copied recursively to create a completely independent copy. This is particularly useful when dealing with complex data structures or objects with nested structures."
   ]
  },
  {
   "cell_type": "code",
   "execution_count": 3,
   "id": "c644b497",
   "metadata": {},
   "outputs": [
    {
     "name": "stdout",
     "output_type": "stream",
     "text": [
      "Original List: [1, [2, 3], [4, 5]]\n",
      "Deep Copied List: [1, ['Deep', 3], [4, 5]]\n",
      "Original List (after modifying the deep copied list): [1, [2, 3], [4, 5]]\n",
      "Shallow Copied List: [1, ['Shallow', 3], [4, 5]]\n",
      "Original List (after modifying the shallowed copied list): [1, ['Shallow', 3], [4, 5]]\n"
     ]
    }
   ],
   "source": [
    "# Importing copy module\n",
    "import copy\n",
    "\n",
    "# Original list with nested list\n",
    "original_list = [1, [2, 3], [4, 5]]\n",
    "\n",
    "# Displaying the original\n",
    "print(\"Original List:\", original_list)\n",
    "# Output: [1, [2, 3], [4, 5]]\n",
    "\n",
    "# Shallow copy using copy\n",
    "shallow_copied_list = copy.copy(original_list)\n",
    "# Deep copy using deepcopy\n",
    "deep_copied_list = copy.deepcopy(original_list)\n",
    "\n",
    "# Modifying the deep copied list\n",
    "deep_copied_list[1][0] = 'Deep'\n",
    "\n",
    "# Displaying the original and deep copied lists\n",
    "print(\"Deep Copied List:\", deep_copied_list)\n",
    "# Output: [1, ['Deep', 3], [4, 5]]\n",
    "print(\"Original List (after modifying the deep copied list):\", original_list)\n",
    "# Output: [1, [2, 3], [4, 5]\n",
    "\n",
    "\n",
    "# Modifying the shallowed copied list\n",
    "shallow_copied_list[1][0] = 'Shallow'\n",
    "\n",
    "\n",
    "# Displaying the original and shallowed copied lists\n",
    "print(\"Shallow Copied List:\", shallow_copied_list)\n",
    "# Output: [1, ['Shallow', 3], [4, 5]]\n",
    "print(\"Original List (after modifying the shallowed copied list):\", original_list)\n",
    "# Output: [1, [2, 3], [4, 5]\n"
   ]
  },
  {
   "cell_type": "markdown",
   "id": "37f33e59",
   "metadata": {},
   "source": [
    "In the above example\n",
    "- The `copy` function creates a shallow copy, meaning the outer list is copied, but the inner lists are still references to the same objects as in the original list.\n",
    "- The `deepcopy` function, on the other hand, creates a deep copy, resulting in entirely independent copies of both the outer and inner lists.\n",
    "\n",
    "As a result, modifying the nested list in the shallow copy affects the original list, while the deep copy remains unaffected"
   ]
  },
  {
   "cell_type": "markdown",
   "id": "0e5d5a02",
   "metadata": {},
   "source": [
    "#### References\n",
    "\n",
    "- [Shallow Copy Vs Deep Copy in Python](https://www.youtube.com/watch?v=SgUwPDT9tEs)"
   ]
  }
 ],
 "metadata": {
  "kernelspec": {
   "display_name": "Python 3 (ipykernel)",
   "language": "python",
   "name": "python3"
  },
  "language_info": {
   "codemirror_mode": {
    "name": "ipython",
    "version": 3
   },
   "file_extension": ".py",
   "mimetype": "text/x-python",
   "name": "python",
   "nbconvert_exporter": "python",
   "pygments_lexer": "ipython3",
   "version": "3.8.10"
  }
 },
 "nbformat": 4,
 "nbformat_minor": 5
}
