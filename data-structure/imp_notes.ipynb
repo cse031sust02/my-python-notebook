{
 "cells": [
  {
   "cell_type": "markdown",
   "id": "181fd382",
   "metadata": {},
   "source": [
    "## Cheatsheet\n",
    "\n",
    "- List, Dictionary and Set are mutable\n",
    "\n",
    "- Tuple is immutable\n",
    "\n",
    "- Sets can't contain mutable items\n",
    "\n",
    "- In Dictionary, keys should be immutubale data structures (tuple, string, int etc)"
   ]
  },
  {
   "cell_type": "markdown",
   "id": "fe5ab8ad",
   "metadata": {},
   "source": [
    "## copy\n",
    "\n",
    "Assignment statements in Python do not create copies of objects, they only bind names to an object.\n",
    "\n",
    "When we create a new collection like a list or dictionary using the assignment operator (`new_list = old_list`), both the new and old collections refer to the same underlying object. This means changes made to one will affect the other."
   ]
  },
  {
   "cell_type": "code",
   "execution_count": 1,
   "id": "c2088ba4",
   "metadata": {},
   "outputs": [
    {
     "name": "stdout",
     "output_type": "stream",
     "text": [
      "New List: [1, 2, 3, 4]\n",
      "Original List: [1, 2, 3, 4]\n"
     ]
    }
   ],
   "source": [
    "original_list = [1, 2, 3]\n",
    "new_list = original_list\n",
    "\n",
    "new_list.append(4)\n",
    "\n",
    "print(\"New List:\", new_list)\n",
    "# Output: [1, 2, 3, 4]\n",
    "\n",
    "print(\"Original List:\", original_list)\n",
    "# Output: [1, 2, 3, 4]"
   ]
  },
  {
   "cell_type": "markdown",
   "id": "14af1d11",
   "metadata": {},
   "source": [
    "To create an independent copy, we should use the copy() method or other copy options"
   ]
  },
  {
   "cell_type": "code",
   "execution_count": 2,
   "id": "5dc142f0",
   "metadata": {},
   "outputs": [
    {
     "name": "stdout",
     "output_type": "stream",
     "text": [
      "Independent Copy: [1, 2, 3, 4, 5]\n",
      "Original List: [1, 2, 3, 4]\n"
     ]
    }
   ],
   "source": [
    "# Using the copy method to create an independent copy\n",
    "independent_copy = original_list.copy()\n",
    "\n",
    "independent_copy.append(5)\n",
    "\n",
    "print(\"Independent Copy:\", independent_copy)\n",
    "# Output: [1, 2, 3, 4, 5]\n",
    "\n",
    "print(\"Original List:\", original_list)\n",
    "# Output: [1, 2, 3, 4]"
   ]
  },
  {
   "cell_type": "markdown",
   "id": "cbaea5b8",
   "metadata": {},
   "source": [
    "## References\n",
    "\n",
    "- [stackoverflow](https://stackoverflow.com/questions/2612802/how-do-i-clone-a-list-so-that-it-doesnt-change-unexpectedly-after-assignment/2612815#2612815)"
   ]
  },
  {
   "cell_type": "code",
   "execution_count": null,
   "id": "3e37b91e",
   "metadata": {},
   "outputs": [],
   "source": []
  }
 ],
 "metadata": {
  "kernelspec": {
   "display_name": "Python 3 (ipykernel)",
   "language": "python",
   "name": "python3"
  },
  "language_info": {
   "codemirror_mode": {
    "name": "ipython",
    "version": 3
   },
   "file_extension": ".py",
   "mimetype": "text/x-python",
   "name": "python",
   "nbconvert_exporter": "python",
   "pygments_lexer": "ipython3",
   "version": "3.8.10"
  }
 },
 "nbformat": 4,
 "nbformat_minor": 5
}
