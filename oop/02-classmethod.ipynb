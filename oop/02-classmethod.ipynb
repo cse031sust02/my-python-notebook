{
 "cells": [
  {
   "cell_type": "markdown",
   "metadata": {},
   "source": [
    "# Class Methods\n",
    "\n",
    "A class method is a method that is bound to the class rather than to any specific instance of the class.\n"
   ]
  },
  {
   "cell_type": "markdown",
   "metadata": {},
   "source": [
    "Class methods can be useful for creating alternative constructors. \n",
    "\n",
    "`alternative constructors (also known as overloaded constructors), are multiple constructors within a class that allow objects to be created using different sets of parameters. Each alternative constructor has a different signature (i.e., different parameters) to provide flexibility in object creation.`"
   ]
  },
  {
   "cell_type": "code",
   "execution_count": 19,
   "metadata": {},
   "outputs": [
    {
     "name": "stdout",
     "output_type": "stream",
     "text": [
      "The Algorithm Design Manual by Steven S. Skiena\n",
      "Clean Code: A Handbook of Agile Software Craftsmanship by Robert C. Martin\n",
      "Code Complete: A Practical Handbook of Software Construction by Unknown\n"
     ]
    }
   ],
   "source": [
    "class Book:\n",
    "    def __init__(self, title, author):\n",
    "        self.title = title\n",
    "        self.author = author\n",
    "    \n",
    "    @classmethod\n",
    "    def from_dict(cls, book_dict):\n",
    "        title = book_dict['title']\n",
    "        author = book_dict['author']\n",
    "        return cls(title, author)\n",
    "\n",
    "    @classmethod\n",
    "    def from_title(cls, title):\n",
    "        title = title\n",
    "        author = 'Unknown'\n",
    "        return cls(title, author)\n",
    "\n",
    "    def get_book(self):\n",
    "        return self.title + \" by \" + self.author\n",
    "\n",
    "my_book1 = Book('The Algorithm Design Manual', 'Steven S. Skiena')\n",
    "print(my_book1.get_book())\n",
    "\n",
    "book_dict = {\n",
    "    'title' : 'Clean Code: A Handbook of Agile Software Craftsmanship',\n",
    "    'author': 'Robert C. Martin'\n",
    "}\n",
    "my_book2 = Book.from_dict(book_dict)\n",
    "print(my_book2.get_book())\n",
    "\n",
    "my_book3 = Book.from_title('Code Complete: A Practical Handbook of Software Construction')\n",
    "print(my_book3.get_book())"
   ]
  },
  {
   "cell_type": "markdown",
   "metadata": {},
   "source": []
  },
  {
   "cell_type": "markdown",
   "metadata": {},
   "source": [
    "We can use class methods for Factory Methods too"
   ]
  }
 ],
 "metadata": {
  "interpreter": {
   "hash": "916dbcbb3f70747c44a77c7bcd40155683ae19c65e1c03b4aa3499c5328201f1"
  },
  "kernelspec": {
   "display_name": "Python 3.8.10 64-bit",
   "language": "python",
   "name": "python3"
  },
  "language_info": {
   "codemirror_mode": {
    "name": "ipython",
    "version": 3
   },
   "file_extension": ".py",
   "mimetype": "text/x-python",
   "name": "python",
   "nbconvert_exporter": "python",
   "pygments_lexer": "ipython3",
   "version": "3.8.10"
  },
  "orig_nbformat": 4
 },
 "nbformat": 4,
 "nbformat_minor": 2
}
