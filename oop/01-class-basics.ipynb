{
 "cells": [
  {
   "cell_type": "markdown",
   "metadata": {},
   "source": [
    "# Class Basics\n",
    "\n",
    "- Class variables are shared by all instances of the class\n",
    "- Instance variables are owned by instances of the class\n"
   ]
  },
  {
   "cell_type": "code",
   "execution_count": 1,
   "metadata": {},
   "outputs": [],
   "source": [
    "class Employee:\n",
    "    \n",
    "    # Class variables\n",
    "    company = 'Demo Company'  \n",
    "    total_employees = 0\n",
    "\n",
    "    def __init__(self, name):\n",
    "        # Instance variables\n",
    "        self.name = name\n",
    "\n",
    "        Employee.total_employees += 1\n",
    "\n",
    "    def get_salary(self):  \n",
    "        print(f\"Hey {self.name}! Here is your salary..\")"
   ]
  },
  {
   "cell_type": "code",
   "execution_count": 2,
   "metadata": {},
   "outputs": [
    {
     "name": "stdout",
     "output_type": "stream",
     "text": [
      "Name :  Talha\n",
      "Company :  Demo Company\n",
      "Total Employees : 1\n",
      "Hey Talha! Here is your salary..\n"
     ]
    }
   ],
   "source": [
    "employee_1 = Employee(\"Talha\")\n",
    "print(\"Name : \", employee_1.name)\n",
    "print(\"Company : \", employee_1.company)\n",
    "print(\"Total Employees :\", employee_1.total_employees)\n",
    "employee_1.get_salary()"
   ]
  },
  {
   "cell_type": "markdown",
   "metadata": {},
   "source": [
    "each (instance) method in a class automatically takes the instance (object) as it's first argument. Best practise is to name the paramater as 'self'\n",
    "\n",
    "below is what is calling behind the scene"
   ]
  },
  {
   "cell_type": "code",
   "execution_count": 3,
   "metadata": {},
   "outputs": [
    {
     "name": "stdout",
     "output_type": "stream",
     "text": [
      "Hey Talha! Here is your salary..\n"
     ]
    }
   ],
   "source": [
    "# equavalent to employee_1.get_salary()\n",
    "Employee.get_salary(employee_1)"
   ]
  },
  {
   "cell_type": "markdown",
   "metadata": {},
   "source": [
    "We can access the class varaible from both the class & instance"
   ]
  },
  {
   "cell_type": "code",
   "execution_count": 4,
   "metadata": {},
   "outputs": [
    {
     "name": "stdout",
     "output_type": "stream",
     "text": [
      "Company :  Demo Company\n",
      "total employees (from class variable) : 1\n"
     ]
    }
   ],
   "source": [
    "print(\"Company : \",Employee.company)\n",
    "print(\"total employees (from class variable) :\", Employee.total_employees)"
   ]
  },
  {
   "cell_type": "code",
   "execution_count": 5,
   "metadata": {},
   "outputs": [
    {
     "name": "stdout",
     "output_type": "stream",
     "text": [
      "Name :  Rashed\n",
      "Company :  Demo Company\n",
      "Total Employees : 2\n",
      "Hey Rashed! Here is your salary..\n"
     ]
    }
   ],
   "source": [
    "employee_2 = Employee(\"Rashed\")\n",
    "print(\"Name : \", employee_2.name)\n",
    "print(\"Company : \", employee_2.company)\n",
    "print(\"Total Employees :\", employee_2.total_employees)\n",
    "employee_2.get_salary()"
   ]
  },
  {
   "cell_type": "markdown",
   "metadata": {},
   "source": [
    "modifying a class variable on the class namespace affects all the instances of the class"
   ]
  },
  {
   "cell_type": "code",
   "execution_count": 6,
   "metadata": {},
   "outputs": [
    {
     "name": "stdout",
     "output_type": "stream",
     "text": [
      "Company :  NO Company\n",
      "Company of Employee 1 :  NO Company\n",
      "Company of Employee 2 :  NO Company\n"
     ]
    }
   ],
   "source": [
    "Employee.company = \"NO Company\"\n",
    "\n",
    "print(\"Company : \",Employee.company)\n",
    "print(\"Company of Employee 1 : \",employee_1.company)\n",
    "print(\"Company of Employee 2 : \",employee_2.company)"
   ]
  },
  {
   "cell_type": "markdown",
   "metadata": {},
   "source": [
    "but we can change the values for any instance without affecting other instances"
   ]
  },
  {
   "cell_type": "code",
   "execution_count": 7,
   "metadata": {},
   "outputs": [
    {
     "name": "stdout",
     "output_type": "stream",
     "text": [
      "Company :  NO Company\n",
      "Company of Employee 1 :  Company 1\n",
      "Company of Employee 2 :  NO Company\n"
     ]
    }
   ],
   "source": [
    "employee_1.company = \"Company 1\"\n",
    "\n",
    "print(\"Company : \",Employee.company)\n",
    "print(\"Company of Employee 1 : \",employee_1.company)\n",
    "print(\"Company of Employee 2 : \",employee_2.company)"
   ]
  },
  {
   "cell_type": "markdown",
   "metadata": {},
   "source": [
    "in the above example, what happened behind the scenes is a new 'company' variable has been added to employee_1 object.\n",
    "\n",
    "when we try to access a attribute of an instance, it will first check if the instance contains that attribute. If it does not, then it will check the class or any class that it inherits from  contains that attribute"
   ]
  },
  {
   "cell_type": "markdown",
   "metadata": {},
   "source": [
    "to get the company attribute for the instance"
   ]
  },
  {
   "cell_type": "code",
   "execution_count": 8,
   "metadata": {},
   "outputs": [
    {
     "name": "stdout",
     "output_type": "stream",
     "text": [
      "Company 1\n"
     ]
    }
   ],
   "source": [
    "print(employee_1.company)"
   ]
  },
  {
   "cell_type": "markdown",
   "metadata": {},
   "source": [
    "to get the company attribute for the class of the instance"
   ]
  },
  {
   "cell_type": "code",
   "execution_count": 9,
   "metadata": {},
   "outputs": [
    {
     "name": "stdout",
     "output_type": "stream",
     "text": [
      "NO Company\n"
     ]
    }
   ],
   "source": [
    "print(employee_1.__class__.company)"
   ]
  },
  {
   "cell_type": "markdown",
   "metadata": {},
   "source": [
    "## References:\n",
    "- [Python OOP Tutorial 1: Classes and Instances](https://www.youtube.com/watch?v=ZDa-Z5JzLYM&list=PL-osiE80TeTsqhIuOqKhwlXsIBIdSeYtc)"
   ]
  }
 ],
 "metadata": {
  "interpreter": {
   "hash": "916dbcbb3f70747c44a77c7bcd40155683ae19c65e1c03b4aa3499c5328201f1"
  },
  "kernelspec": {
   "display_name": "Python 3.8.10 64-bit",
   "language": "python",
   "name": "python3"
  },
  "language_info": {
   "codemirror_mode": {
    "name": "ipython",
    "version": 3
   },
   "file_extension": ".py",
   "mimetype": "text/x-python",
   "name": "python",
   "nbconvert_exporter": "python",
   "pygments_lexer": "ipython3",
   "version": "3.8.10"
  },
  "orig_nbformat": 4
 },
 "nbformat": 4,
 "nbformat_minor": 2
}
